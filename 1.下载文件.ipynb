{
 "cells": [
  {
   "cell_type": "code",
   "execution_count": null,
   "id": "d2d9b3fc",
   "metadata": {},
   "outputs": [],
   "source": [
    "from datasets import load_dataset\n",
    "\n",
    "name = 'mozilla-foundation/common_voice_16_0'\n",
    "load_dataset(name, 'zh-CN', split='train').save_to_disk('dataset/' + name)"
   ]
  },
  {
   "cell_type": "code",
   "execution_count": null,
   "id": "eebf9111",
   "metadata": {},
   "outputs": [],
   "source": [
    "from transformers import Wav2Vec2BertForCTC\n",
    "\n",
    "name = 'lansinuote/Chinese_Speech_to_Text_CTC'\n",
    "Wav2Vec2BertForCTC.from_pretrained(name).save_pretrained('model/' + name)"
   ]
  }
 ],
 "metadata": {
  "kernelspec": {
   "display_name": "Python [conda env:pt]",
   "language": "python",
   "name": "conda-env-pt-py"
  },
  "language_info": {
   "codemirror_mode": {
    "name": "ipython",
    "version": 3
   },
   "file_extension": ".py",
   "mimetype": "text/x-python",
   "name": "python",
   "nbconvert_exporter": "python",
   "pygments_lexer": "ipython3",
   "version": "3.10.13"
  }
 },
 "nbformat": 4,
 "nbformat_minor": 5
}
