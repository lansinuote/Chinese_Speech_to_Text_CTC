{
 "cells": [
  {
   "cell_type": "code",
   "execution_count": null,
   "id": "5522bb1e",
   "metadata": {},
   "outputs": [],
   "source": [
    "from datasets import load_dataset\n",
    "\n",
    "name = 'mozilla-foundation/common_voice_16_0'\n",
    "load_dataset(name, 'zh-CN', split='train').save_to_disk('dataset/' + name)"
   ]
  },
  {
   "cell_type": "code",
   "execution_count": null,
   "id": "c070147a",
   "metadata": {},
   "outputs": [],
   "source": [
    "from transformers import Wav2Vec2BertForCTC\n",
    "\n",
    "name = 'facebook/w2v-bert-2.0'\n",
    "Wav2Vec2BertForCTC.from_pretrained(\n",
    "    name, vocab_size=4054).save_pretrained('model/' + name)"
   ]
  }
 ],
 "metadata": {
  "kernelspec": {
   "display_name": "Python [conda env:pt]",
   "language": "python",
   "name": "conda-env-pt-py"
  },
  "language_info": {
   "codemirror_mode": {
    "name": "ipython",
    "version": 3
   },
   "file_extension": ".py",
   "mimetype": "text/x-python",
   "name": "python",
   "nbconvert_exporter": "python",
   "pygments_lexer": "ipython3",
   "version": "3.10.13"
  }
 },
 "nbformat": 4,
 "nbformat_minor": 5
}
